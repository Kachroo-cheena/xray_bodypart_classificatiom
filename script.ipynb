{
 "cells": [
  {
   "cell_type": "code",
   "execution_count": 6,
   "metadata": {},
   "outputs": [
    {
     "name": "stdout",
     "output_type": "stream",
     "text": [
      "string_strip:  123\n",
      "string_strip_split:  ['123']\n"
     ]
    }
   ],
   "source": [
    "string = '1' + '2' + '3'\n",
    "string_strip = string.strip(' ')\n",
    "print('string_strip: ', string_strip)\n",
    "string_strip_split = string_strip.split(' ')\n",
    "print('string_strip_split: ', string_strip_split)"
   ]
  },
  {
   "cell_type": "code",
   "execution_count": 18,
   "metadata": {},
   "outputs": [
    {
     "name": "stdout",
     "output_type": "stream",
     "text": [
      "Warning: Your Kaggle API key is readable by other users on this system! To fix this, you can run 'chmod 600 /home/zaeem/.kaggle/kaggle.json'\n",
      "ref                                                         title                                                size  lastUpdated          downloadCount  voteCount  usabilityRating  \n",
      "----------------------------------------------------------  --------------------------------------------------  -----  -------------------  -------------  ---------  ---------------  \n",
      "felipekitamura/unifesp-xray-bodypart-classification         The UNIFESP X-Ray Body Part Classification Dataset  256MB  2022-04-03 01:56:15            654         30  1.0              \n",
      "ibombonato/xray-body-images-in-png-unifesp-competion        Body Parts X-Ray Images in PNG                      200MB  2022-04-11 17:03:47            764         23  0.7941176        \n",
      "eferrares/unifesp-contest-data                              Unifesp AM Classes                                   16KB  2017-04-27 02:07:39             49          1  0.64705884       \n",
      "ibombonato/unifesp-xray-body-part-dicom-metadata-csv        UNIFESP X-ray Body Part - DICOM METADATA CSV        276KB  2022-04-05 21:19:56             94          2  0.5294118        \n",
      "asheniranga/unifesp-xray-body-part-classifier-dataset-jpeg  UNIFESP X-ray Body Part Classifier Dataset Jpeg      33MB  2022-07-22 13:11:49             12          1  0.29411766       \n",
      "elmehdi12/keratoconus-detection                             Keratoconus  detection                               49MB  2023-01-28 13:57:32            211          7  0.75             \n",
      "denisrukavishnikov/unifesp-fatty-liver-tf-data              UNIFESP Fatty Liver tf.data                          12GB  2022-08-13 13:44:12             18          0  0.4375           \n",
      "arvati/brazil-solar-irradiation                             Brazil Solar Irradiation                            136MB  2020-09-16 00:05:41            174          7  0.8235294        \n"
     ]
    }
   ],
   "source": [
    "!kaggle datasets list -s UNIFESP "
   ]
  },
  {
   "cell_type": "code",
   "execution_count": 19,
   "metadata": {},
   "outputs": [
    {
     "name": "stdout",
     "output_type": "stream",
     "text": [
      "Warning: Your Kaggle API key is readable by other users on this system! To fix this, you can run 'chmod 600 /home/zaeem/.kaggle/kaggle.json'\n",
      "403 - Forbidden - Permission 'datasets.get' was denied\n"
     ]
    }
   ],
   "source": [
    "!kaggle datasets download ibombonato/xray-body-image-in-png-unifesp-competion"
   ]
  },
  {
   "cell_type": "code",
   "execution_count": null,
   "metadata": {},
   "outputs": [],
   "source": []
  }
 ],
 "metadata": {
  "kernelspec": {
   "display_name": "venv",
   "language": "python",
   "name": "python3"
  },
  "language_info": {
   "codemirror_mode": {
    "name": "ipython",
    "version": 3
   },
   "file_extension": ".py",
   "mimetype": "text/x-python",
   "name": "python",
   "nbconvert_exporter": "python",
   "pygments_lexer": "ipython3",
   "version": "3.11.2"
  },
  "orig_nbformat": 4
 },
 "nbformat": 4,
 "nbformat_minor": 2
}
